{
 "cells": [
  {
   "cell_type": "markdown",
   "metadata": {},
   "source": [
    "## Content\n",
    "\n",
    "Fashion-MNIST is a dataset of Zalando's article images—consisting of a training set of 60,000 examples and a test set of 10,000 examples. Each example is a 28x28 grayscale image, associated with a label from 10 classes. Zalando intends Fashion-MNIST to serve as a direct drop-in replacement for the original MNIST dataset for benchmarking machine learning algorithms. It shares the same image size and structure of training and testing splits.\n",
    "\n",
    "Each image is 28 pixels in height and 28 pixels in width, for a total of 784 pixels in total. Each pixel has a single pixel-value associated with it, indicating the lightness or darkness of that pixel, with higher numbers meaning darker. This pixel-value is an integer between 0 and 255. The training and test data sets have 785 columns. The first column consists of the class labels (see above), and represents the article of clothing. The rest of the columns contain the pixel-values of the associated image.\n",
    "\n",
    "To locate a pixel on the image, suppose that we have decomposed x as x = i * 28 + j, where i and j are integers between 0 and 27. The pixel is located on row i and column j of a 28 x 28 matrix.\n",
    "\n",
    "Labels\n",
    "\n",
    "Each training and test example is assigned to one of the following labels:\n",
    "\n",
    "0 T-shirt/top\n",
    "1 Trouser\n",
    "2 Pullover\n",
    "3 Dress\n",
    "4 Coat\n",
    "5 Sandal\n",
    "6 Shirt\n",
    "7 Sneaker\n",
    "8 Bag\n",
    "9 Ankle boot \n",
    "\n",
    "TL;DR\n",
    "\n",
    "Each row is a separate image\n",
    "Column 1 is the class label.\n",
    "Remaining columns are pixel numbers (784 total).\n",
    "Each value is the darkness of the pixel (1 to 255)"
   ]
  },
  {
   "cell_type": "markdown",
   "metadata": {
    "collapsed": true
   },
   "source": [
    "### Importing the library"
   ]
  },
  {
   "cell_type": "code",
   "execution_count": 1,
   "metadata": {
    "collapsed": false
   },
   "outputs": [],
   "source": [
    "import pandas as pd\n",
    "import numpy as np\n",
    "import matplotlib.pyplot as plt\n",
    "%matplotlib inline"
   ]
  },
  {
   "cell_type": "markdown",
   "metadata": {
    "collapsed": true
   },
   "source": [
    "### Importing the dataset"
   ]
  },
  {
   "cell_type": "code",
   "execution_count": 2,
   "metadata": {
    "collapsed": true
   },
   "outputs": [],
   "source": [
    "fashionTrain = pd.read_csv('fashion-mnist_train.csv')\n",
    "fashionTest = pd.read_csv('fashion-mnist_test.csv')\n",
    "\n",
    "train = np.array(fashionTrain, dtype = 'float32')\n",
    "test = np.array(fashionTest, dtype = 'float32')"
   ]
  },
  {
   "cell_type": "code",
   "execution_count": 3,
   "metadata": {
    "collapsed": false
   },
   "outputs": [
    {
     "data": {
      "text/plain": [
       "(60000, 785)"
      ]
     },
     "execution_count": 3,
     "metadata": {},
     "output_type": "execute_result"
    }
   ],
   "source": [
    "train.shape"
   ]
  },
  {
   "cell_type": "code",
   "execution_count": 19,
   "metadata": {
    "collapsed": true
   },
   "outputs": [
    {
     "data": {
      "text/plain": [
       "array([  0.,   0.,   0.,   0.,   0.,   0.,   0.,   0.,   0.,   0.,   0.,\n",
       "         0.,   0.,   0.,   0.,   0.,   0.,   0.,   0.,   0.,   0.,   0.,\n",
       "         0.,   0.,   0.,   0.,   0.,   0.,   0.,   0.,   0.,   0.,   0.,\n",
       "         0.,   0.,   0.,   0.,   0.,   0.,   0.,   0.,   0.,   0.,   0.,\n",
       "         0.,   0.,   0.,   0.,   0.,   0.,   0.,   0.,   0.,   0.,   0.,\n",
       "         0.,   0.,   0.,   0.,   0.,   0.,   0.,   0.,   0.,   0.,   0.,\n",
       "         0.,   0.,   0.,   0.,   0.,   0.,   0.,   0.,   0.,   0.,   0.,\n",
       "         0.,   0.,   0.,   0.,   0.,   0.,   0.,   0.,   0.,   0.,   0.,\n",
       "         0.,   0.,   0.,   0.,   0.,   0.,   0.,   0.,   0.,   0.,   0.,\n",
       "         0.,   0.,   0.,   0.,   0.,   0.,   0.,   0.,   0.,   0.,   0.,\n",
       "         0.,   0.,   0.,   0.,   0.,   0.,   0.,   0.,   0.,   0.,   0.,\n",
       "         0.,   0.,   0.,   0.,   0.,   0.,   0.,   0.,   0.,   0.,   0.,\n",
       "         0.,   0.,   0.,   0.,   0.,   0.,   0.,   0.,   0.,   0.,   0.,\n",
       "         0.,   0.,   0.,   0.,   0.,   0.,   0.,   0.,   0.,   1.,   1.,\n",
       "         0.,   0.,   0.,   0.,  81.,  21.,   0.,   1.,   0.,   1.,   0.,\n",
       "         0.,   0.,   0.,   0.,   0.,   0.,   0.,   0.,   0.,   0.,   0.,\n",
       "         0.,   0.,   0.,   1.,   0.,   0.,   0.,   0.,   0.,  14., 200.,\n",
       "        49.,   0.,   0.,   0.,   0.,   0.,   0.,   0.,   0.,   0.,   0.,\n",
       "         0.,   0.,   0.,   0.,   0.,   0.,   2.,   1.,   1.,   1.,   0.,\n",
       "         1.,   0.,   0.,   0., 162., 184., 165.,  20.,   0.,   1.,   1.,\n",
       "         3.,   4.,   1.,   0.,   0.,   0.,   0.,   0.,   0.,   0.,   0.,\n",
       "         0.,   0.,   0.,   0.,   1.,   2.,   0.,   2.,   0., 120., 183.,\n",
       "       154., 206.,  32.,   0.,   5.,   5.,   0.,   0.,   0.,   0.,   0.,\n",
       "         0.,   0.,   0.,   0.,   0.,   0.,   0.,   0.,   0.,   0.,   2.,\n",
       "         0.,   3.,   0.,  76., 227., 151., 139., 158.,   0.,   0.,   0.,\n",
       "         0.,   0.,  66.,  23.,   0.,   0.,   0.,   0.,   0.,   0.,   0.,\n",
       "         0.,   0.,   1.,   0.,   1.,   0.,   0.,   0.,  55., 224., 162.,\n",
       "       143., 121., 204., 236., 144.,  21.,  74.,  90., 190.,   8.,   0.,\n",
       "         0.,   0.,   0.,   0.,   0.,   0.,   0.,   0.,   0.,   1.,   0.,\n",
       "         0.,   0.,  42., 228., 160., 148., 125., 165., 223., 208., 221.,\n",
       "       246., 211., 174., 151.,   0.,   0.,   0.,   0.,   0.,   1.,   3.,\n",
       "         0.,   1.,   0.,   3.,   0.,   9.,   0.,  23., 230., 168., 147.,\n",
       "       119., 163., 227., 206., 200., 190., 206., 186., 139., 171.,  41.,\n",
       "         0.,   0.,   0.,   0.,   0.,   0.,   0.,   0.,   0.,   3.,   4.,\n",
       "         0.,  16., 209., 185., 139., 118., 181., 227., 209., 204., 210.,\n",
       "       199., 225., 157., 127., 190., 111.,   0.,   1.,   3.,   2.,   1.,\n",
       "         3.,   2.,   3.,   0.,   0.,   0.,  67., 214., 187., 139., 111.,\n",
       "       191., 229., 203., 208., 208., 196., 223., 188., 100., 128., 155.,\n",
       "       112.,   0.,   0.,   0.,   0.,   0.,   0.,   0.,   0.,   0.,  48.,\n",
       "       161., 218., 171., 147., 116., 185., 235., 201., 209., 203., 204.,\n",
       "       220., 208., 126., 133., 162., 164., 187.,   0.,   0.,  12.,  16.,\n",
       "         9.,   4.,  19.,  73., 170., 211., 188., 145., 149., 148., 136.,\n",
       "       222., 218., 207., 208., 215., 224., 193., 140., 146., 162., 156.,\n",
       "       118., 203.,  37.,  47., 255., 188., 187., 182., 203., 206., 182.,\n",
       "       147., 140., 148., 148., 148., 134., 180., 218., 221., 225., 204.,\n",
       "       156., 134., 139., 144., 140., 123.,  97., 206.,  30.,  88., 203.,\n",
       "       164., 167., 170., 161., 147., 147., 156., 159., 153., 152., 155.,\n",
       "       150., 134., 136., 153., 145., 136., 151., 164., 168., 170., 166.,\n",
       "       153., 130., 200.,  10., 131., 195., 150., 133., 132., 142., 160.,\n",
       "       166., 162., 153., 152., 153., 151., 154., 163., 147., 152., 163.,\n",
       "       205., 208., 174., 175., 178., 181., 168., 150., 196.,   1., 155.,\n",
       "       228., 197., 172., 138., 123., 121., 122., 126., 129., 135., 139.,\n",
       "       144., 158., 177., 192., 239., 244., 178., 176., 183., 179., 185.,\n",
       "       177., 147., 148., 192.,   0.,   0.,  80., 196., 199., 212., 209.,\n",
       "       190., 176., 170., 178., 183., 192., 204., 204., 202., 144.,  59.,\n",
       "         3.,   0.,  67., 217., 184., 188., 178., 166., 160., 188.,  13.,\n",
       "         0.,   0.,   0.,   3.,  51., 105., 179., 217., 235., 227., 208.,\n",
       "       201., 133.,  58.,   0.,   0.,   0.,   0.,   0.,  16., 187., 194.,\n",
       "       184., 185., 175., 181., 131.,   0.,   0.,   3.,   0.,   0.,   0.,\n",
       "         0.,   0.,   0.,   0.,   0.,   0.,   0.,   0.,   0.,   0.,   5.,\n",
       "         5.,   5.,   0.,   0.,   0.,   0.,   0.,   0.,   0.,   0.,   0.,\n",
       "         0.,   0.,   0.,   0.,   0.,   0.,   0.,   0.,   0.,   0.,   0.,\n",
       "         0.,   0.,   0.,   0.,   0.,   0.,   0.,   0.,   0.,   0.,   0.,\n",
       "         0.,   0.,   0.,   0.,   0.,   0.,   0.,   0.,   0.,   0.,   0.,\n",
       "         0.,   0.,   0.,   0.,   0.,   0.,   0.,   0.,   0.,   0.,   0.,\n",
       "         0.,   0.,   0.,   0.,   0.,   0.,   0.,   0.,   0.,   0.,   0.,\n",
       "         0.,   0.,   0.,   0.,   0.,   0.,   0.,   0.,   0.,   0.,   0.,\n",
       "         0.,   0.,   0.,   0.,   0.,   0.,   0.,   0.,   0.,   0.,   0.,\n",
       "         0.,   0.,   0.,   0.,   0.,   0.,   0.,   0.,   0.,   0.,   0.,\n",
       "         0.,   0.,   0.,   0.,   0.,   0.,   0.,   0.,   0.,   0.,   0.,\n",
       "         0.,   0.,   0.,   0.,   0.,   0.,   0.,   0.,   0.,   0.,   0.,\n",
       "         0.,   0.,   0.], dtype=float32)"
      ]
     },
     "execution_count": 19,
     "metadata": {},
     "output_type": "execute_result"
    }
   ],
   "source": [
    "train[1,1:]"
   ]
  },
  {
   "cell_type": "code",
   "execution_count": null,
   "metadata": {
    "collapsed": true
   },
   "outputs": [],
   "source": [
    "### 0th column contains the labels"
   ]
  },
  {
   "cell_type": "code",
   "execution_count": 4,
   "metadata": {
    "collapsed": false
   },
   "outputs": [
    {
     "data": {
      "text/plain": [
       "array([0., 1., 2., 3., 4., 5., 6., 7., 8., 9.], dtype=float32)"
      ]
     },
     "execution_count": 4,
     "metadata": {},
     "output_type": "execute_result"
    }
   ],
   "source": [
    "np.unique(train[:,0])"
   ]
  },
  {
   "cell_type": "markdown",
   "metadata": {},
   "source": [
    "### Visualize an Image"
   ]
  },
  {
   "cell_type": "code",
   "execution_count": 12,
   "metadata": {
    "collapsed": false
   },
   "outputs": [
    {
     "data": {
      "image/png": "[encoded data removed]",
      "text/plain": [
       "<matplotlib.figure.Figure at 0x1ad4cea3b38>"
      ]
     },
     "metadata": {},
     "output_type": "display_data"
    }
   ],
   "source": [
    "plt.imshow(train[170, 1:].reshape(28, 28),cmap=plt.cm.binary)\n",
    "plt.colorbar()\n",
    "plt.grid(False)"
   ]
  },
  {
   "cell_type": "markdown",
   "metadata": {},
   "source": [
    "### To show some images"
   ]
  },
  {
   "cell_type": "code",
   "execution_count": 15,
   "metadata": {
    "collapsed": false
   },
   "outputs": [
    {
     "data": {
      "image/png": "[encoded data removed]",
      "text/plain": [
       "<matplotlib.figure.Figure at 0x1ad6fe736a0>"
      ]
     },
     "metadata": {},
     "output_type": "display_data"
    }
   ],
   "source": [
    "w = 5\n",
    "l = 5\n",
    "fig, axes = plt.subplots(l, w, figsize = (10,10))\n",
    "axes = axes.ravel() #Flatten\n",
    "for i in np.arange(0, w*l):\n",
    "    index = np.random.randint(0, 60000)\n",
    "    axes[i].imshow(train[index, 1:].reshape((28, 28)))\n",
    "    axes[i].set_title(train[index, 0], fontsize = 8)\n",
    "    axes[i].axis('off')\n",
    "#plt.subplots_adjust(hspace = 0.4)"
   ]
  },
  {
   "cell_type": "markdown",
   "metadata": {},
   "source": [
    "### Normalization"
   ]
  },
  {
   "cell_type": "code",
   "execution_count": 28,
   "metadata": {
    "collapsed": true
   },
   "outputs": [],
   "source": [
    "train_1 = train[:, 1:]/255\n",
    "target_1 = train[:, 0]\n",
    "test_data = test[:, 1:]/255\n",
    "test_label = test[:, 0]"
   ]
  },
  {
   "cell_type": "markdown",
   "metadata": {},
   "source": [
    "### Reshaping our data"
   ]
  },
  {
   "cell_type": "code",
   "execution_count": 29,
   "metadata": {
    "collapsed": true
   },
   "outputs": [],
   "source": [
    "train_1 = train_1.reshape(train_1.shape[0], *(28, 28, 1))\n",
    "test_data = test_data.reshape(test_data.shape[0], *(28, 28, 1))"
   ]
  },
  {
   "cell_type": "raw",
   "metadata": {
    "collapsed": true
   },
   "source": [
    "### Validation Dataset\n",
    "#from sklearn.model_selection import train_test_split\n",
    "#X_train, X_test, y_train, y_test = train_test_split(train_1, target_1, test_size = 0.2, random_state = 7)\n",
    "\n",
    "train_1 = train_1.reshape(train_1.shape[0], *(28, 28, 1))\n",
    "test_data = test_data.reshape(test_data.shape[0], *(28, 28, 1))\n",
    "#xT = xValidate.reshape(xValidate.shape[0], *(28, 28, 1)) \n"
   ]
  },
  {
   "cell_type": "markdown",
   "metadata": {},
   "source": [
    "## Creating a Model "
   ]
  },
  {
   "cell_type": "raw",
   "metadata": {
    "collapsed": false
   },
   "source": [
    "Sequential - Used to initalize the neural network. \n",
    "\n",
    "The first layer in this network, tf.keras.layers.Flatten, transforms the format of the images from a 2d-array (of 28 by 28 pixels), to a 1d-array of 28 * 28 = 784 pixels(1-784). Think of this layer as unstacking rows of pixels in the image and lining them up. This layer has no parameters to learn; it only reformats the data.\n",
    "\n",
    "After the pixels are flattened, the network consists of a sequence of two tf.keras.layers.Dense layers. These are densely-connected, or fully-connected, neural layers. The first Dense layer has 128 nodes (or neurons). The second (and last) layer is a 10-node softmax layer—this returns an array of 10 probability scores that sum to 1. Each node contains a score that indicates the probability that the current image belongs to one of the 10 classes.\n",
    "\n",
    "sigmoid - binary -0/1 ie single node. \n",
    "When you want more than 1 output/node such that the probabilities sum up to 1 we use something called as softmax.\n",
    "softmax- generalization of sigmoid"
   ]
  },
  {
   "cell_type": "markdown",
   "metadata": {},
   "source": [
    "#### Setting up the layers"
   ]
  },
  {
   "cell_type": "markdown",
   "metadata": {},
   "source": [
    "##### Alternative way\n",
    "import tensorflow as tf\n",
    "from tensorflow import keras\n",
    "\n",
    "model = keras.Sequential([\n",
    "    keras.layers.Flatten(input_shape=(28, 28, 1)),\n",
    "    keras.layers.Dense(128, activation=tf.nn.relu),\n",
    "    keras.layers.Dense(10, activation=tf.nn.softmax)\n",
    "])"
   ]
  },
  {
   "cell_type": "code",
   "execution_count": 30,
   "metadata": {
    "collapsed": false
   },
   "outputs": [],
   "source": [
    "import tensorflow as tf\n",
    "from tensorflow import keras\n",
    "\n",
    "model = keras.Sequential()\n",
    "model.add(keras.layers.Flatten(input_shape=(28, 28, 1)))\n",
    "model.add(keras.layers.Dense(units=128,activation=tf.nn.relu))\n",
    "model.add(keras.layers.Dense(10, activation=tf.nn.softmax))"
   ]
  },
  {
   "cell_type": "markdown",
   "metadata": {},
   "source": [
    "#### Compile the model"
   ]
  },
  {
   "cell_type": "markdown",
   "metadata": {},
   "source": [
    "sparse_categorical_crossentropy - we want multiple output. Remember how cross entropy loss is our cost function in logistic regression.\n",
    "\n",
    "Adam - stochastic gradient descent algorithm for updating weights.\n",
    "loss- loss function for the stochastic gradient descent algorithm. Since our activation function is softmax our loss function is logarithmic that is categorical_crossentropy. For binary outcome our activation function is sigmoid and our loss function is logarithmic that is binary_crossentropy."
   ]
  },
  {
   "cell_type": "code",
   "execution_count": 31,
   "metadata": {
    "collapsed": true
   },
   "outputs": [],
   "source": [
    "model.compile(optimizer='adam',loss='sparse_categorical_crossentropy',metrics=['accuracy'])"
   ]
  },
  {
   "cell_type": "markdown",
   "metadata": {},
   "source": [
    "#### Train the model"
   ]
  },
  {
   "cell_type": "code",
   "execution_count": 36,
   "metadata": {
    "collapsed": false
   },
   "outputs": [
    {
     "name": "stdout",
     "output_type": "stream",
     "text": [
      "Epoch 1/10\n",
      "60000/60000 [==============================]60000/60000 [==============================] - 2s 38us/step - loss: 0.2992 - acc: 0.8941\n",
      "\n",
      "Epoch 2/10\n",
      "60000/60000 [==============================]60000/60000 [==============================] - 3s 43us/step - loss: 0.2964 - acc: 0.8940\n",
      "\n",
      "Epoch 3/10\n",
      "60000/60000 [==============================]60000/60000 [==============================] - 3s 49us/step - loss: 0.2833 - acc: 0.8990\n",
      "\n",
      "Epoch 4/10\n",
      "60000/60000 [==============================]60000/60000 [==============================] - 2s 40us/step - loss: 0.2775 - acc: 0.9010\n",
      "\n",
      "Epoch 5/10\n",
      "60000/60000 [==============================]60000/60000 [==============================] - 3s 42us/step - loss: 0.2724 - acc: 0.9016\n",
      "\n",
      "Epoch 6/10\n",
      "60000/60000 [==============================]60000/60000 [==============================] - 2s 39us/step - loss: 0.2663 - acc: 0.9046\n",
      "\n",
      "Epoch 7/10\n",
      "60000/60000 [==============================]60000/60000 [==============================] - 3s 45us/step - loss: 0.2616 - acc: 0.9051\n",
      "\n",
      "Epoch 8/10\n",
      "60000/60000 [==============================]60000/60000 [==============================] - 3s 46us/step - loss: 0.2588 - acc: 0.9075\n",
      "\n",
      "Epoch 9/10\n",
      "60000/60000 [==============================]60000/60000 [==============================] - 2s 39us/step - loss: 0.2565 - acc: 0.9066\n",
      "\n",
      "Epoch 10/10\n",
      "60000/60000 [==============================]60000/60000 [==============================] - 2s 38us/step - loss: 0.2492 - acc: 0.9107\n",
      "\n"
     ]
    },
    {
     "data": {
      "text/plain": [
       "<tensorflow.python.keras._impl.keras.callbacks.History at 0x1ad4ce5bc88>"
      ]
     },
     "execution_count": 36,
     "metadata": {},
     "output_type": "execute_result"
    }
   ],
   "source": [
    "model.fit(train_1,\n",
    "        target_1,\n",
    "        batch_size = 512,\n",
    "        epochs=10)"
   ]
  },
  {
   "cell_type": "code",
   "execution_count": 37,
   "metadata": {
    "collapsed": false
   },
   "outputs": [
    {
     "name": "stdout",
     "output_type": "stream",
     "text": [
      "10000/10000 [==============================]10000/10000 [==============================] - 1s 51us/step\n",
      "\n",
      "Test accuracy: {:.3f} 0.8849\n"
     ]
    }
   ],
   "source": [
    "test_loss, test_acc = model.evaluate(test_data, test_label)\n",
    "print('Test accuracy: {:.3f}', test_acc)"
   ]
  },
  {
   "cell_type": "code",
   "execution_count": 38,
   "metadata": {
    "collapsed": false
   },
   "outputs": [
    {
     "data": {
      "text/plain": [
       "array([8.4907037e-01, 2.3687146e-08, 1.7566873e-04, 6.5498287e-05,\n",
       "       3.8607039e-05, 5.6816158e-14, 1.5064038e-01, 1.2767543e-11,\n",
       "       9.4687621e-06, 7.6191519e-16], dtype=float32)"
      ]
     },
     "execution_count": 38,
     "metadata": {},
     "output_type": "execute_result"
    }
   ],
   "source": [
    "predictions = model.predict(test_data)\n",
    "predictions[0]"
   ]
  },
  {
   "cell_type": "code",
   "execution_count": 39,
   "metadata": {
    "collapsed": false
   },
   "outputs": [
    {
     "data": {
      "text/plain": [
       "0"
      ]
     },
     "execution_count": 39,
     "metadata": {},
     "output_type": "execute_result"
    }
   ],
   "source": [
    "np.argmax(predictions[0])"
   ]
  },
  {
   "cell_type": "code",
   "execution_count": 41,
   "metadata": {
    "collapsed": false
   },
   "outputs": [
    {
     "data": {
      "text/plain": [
       "0.0"
      ]
     },
     "execution_count": 41,
     "metadata": {},
     "output_type": "execute_result"
    }
   ],
   "source": [
    "test_label[0]"
   ]
  }
 ],
 "metadata": {
  "anaconda-cloud": {},
  "kernelspec": {
   "display_name": "Python [conda env:tensorflow]",
   "language": "python",
   "name": "conda-env-tensorflow-py"
  },
  "language_info": {
   "codemirror_mode": {
    "name": "ipython",
    "version": 3
   },
   "file_extension": ".py",
   "mimetype": "text/x-python",
   "name": "python",
   "nbconvert_exporter": "python",
   "pygments_lexer": "ipython3",
   "version": "3.5.3"
  }
 },
 "nbformat": 4,
 "nbformat_minor": 1
}
